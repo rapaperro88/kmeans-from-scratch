{
 "cells": [
  {
   "cell_type": "code",
   "execution_count": 1,
   "metadata": {},
   "outputs": [],
   "source": [
    "import numpy as np\n",
    "import matplotlib.pyplot as plt\n",
    "import pandas as pd\n",
    "import scipy \n",
    "np.set_printoptions(edgeitems=10)"
   ]
  },
  {
   "cell_type": "code",
   "execution_count": 2,
   "metadata": {},
   "outputs": [
    {
     "data": {
      "text/html": [
       "<div>\n",
       "<style scoped>\n",
       "    .dataframe tbody tr th:only-of-type {\n",
       "        vertical-align: middle;\n",
       "    }\n",
       "\n",
       "    .dataframe tbody tr th {\n",
       "        vertical-align: top;\n",
       "    }\n",
       "\n",
       "    .dataframe thead th {\n",
       "        text-align: right;\n",
       "    }\n",
       "</style>\n",
       "<table border=\"1\" class=\"dataframe\">\n",
       "  <thead>\n",
       "    <tr style=\"text-align: right;\">\n",
       "      <th></th>\n",
       "      <th>normalized_age</th>\n",
       "      <th>normalized_salary</th>\n",
       "    </tr>\n",
       "  </thead>\n",
       "  <tbody>\n",
       "    <tr>\n",
       "      <th>0</th>\n",
       "      <td>0.680267</td>\n",
       "      <td>-0.016342</td>\n",
       "    </tr>\n",
       "    <tr>\n",
       "      <th>1</th>\n",
       "      <td>3.809518</td>\n",
       "      <td>0.798483</td>\n",
       "    </tr>\n",
       "    <tr>\n",
       "      <th>2</th>\n",
       "      <td>-1.661372</td>\n",
       "      <td>-0.577667</td>\n",
       "    </tr>\n",
       "    <tr>\n",
       "      <th>3</th>\n",
       "      <td>-0.257307</td>\n",
       "      <td>-0.155552</td>\n",
       "    </tr>\n",
       "    <tr>\n",
       "      <th>4</th>\n",
       "      <td>0.698017</td>\n",
       "      <td>0.174561</td>\n",
       "    </tr>\n",
       "    <tr>\n",
       "      <th>...</th>\n",
       "      <td>...</td>\n",
       "      <td>...</td>\n",
       "    </tr>\n",
       "    <tr>\n",
       "      <th>995</th>\n",
       "      <td>-5.060165</td>\n",
       "      <td>2.482045</td>\n",
       "    </tr>\n",
       "    <tr>\n",
       "      <th>996</th>\n",
       "      <td>-5.079404</td>\n",
       "      <td>2.773580</td>\n",
       "    </tr>\n",
       "    <tr>\n",
       "      <th>997</th>\n",
       "      <td>-5.861520</td>\n",
       "      <td>3.068426</td>\n",
       "    </tr>\n",
       "    <tr>\n",
       "      <th>998</th>\n",
       "      <td>-5.018934</td>\n",
       "      <td>3.110904</td>\n",
       "    </tr>\n",
       "    <tr>\n",
       "      <th>999</th>\n",
       "      <td>-6.799331</td>\n",
       "      <td>2.082321</td>\n",
       "    </tr>\n",
       "  </tbody>\n",
       "</table>\n",
       "<p>1000 rows × 2 columns</p>\n",
       "</div>"
      ],
      "text/plain": [
       "     normalized_age  normalized_salary\n",
       "0          0.680267          -0.016342\n",
       "1          3.809518           0.798483\n",
       "2         -1.661372          -0.577667\n",
       "3         -0.257307          -0.155552\n",
       "4          0.698017           0.174561\n",
       "..              ...                ...\n",
       "995       -5.060165           2.482045\n",
       "996       -5.079404           2.773580\n",
       "997       -5.861520           3.068426\n",
       "998       -5.018934           3.110904\n",
       "999       -6.799331           2.082321\n",
       "\n",
       "[1000 rows x 2 columns]"
      ]
     },
     "execution_count": 2,
     "metadata": {},
     "output_type": "execute_result"
    }
   ],
   "source": [
    "data = pd.read_csv(\"data/dataset_1.csv\",index_col=0)\n",
    "data"
   ]
  },
  {
   "cell_type": "code",
   "execution_count": 3,
   "metadata": {},
   "outputs": [
    {
     "data": {
      "text/plain": [
       "<matplotlib.collections.PathCollection at 0x26f4ea71348>"
      ]
     },
     "execution_count": 3,
     "metadata": {},
     "output_type": "execute_result"
    },
    {
     "data": {
      "image/png": "[encoded data removed]",
      "text/plain": [
       "<Figure size 432x288 with 1 Axes>"
      ]
     },
     "metadata": {
      "needs_background": "light"
     },
     "output_type": "display_data"
    }
   ],
   "source": [
    "plt.scatter(data[\"normalized_age\"], data[\"normalized_salary\"])"
   ]
  },
  {
   "cell_type": "code",
   "execution_count": 4,
   "metadata": {},
   "outputs": [],
   "source": [
    "def determine_C_movement(decimals):\n",
    "    a = np.round(centroid_positions, decimals)\n",
    "    b = np.round(for_comparison, decimals)   \n",
    "    return np.array_equal(a, b)\n",
    "\n",
    "# determine_C_movement(3)\n",
    "\n",
    "def measure_distances():\n",
    "#     from numpy import linalg as LA\n",
    "    \n",
    "    for idx_centroid in range(k):\n",
    "        \n",
    "#         for idx_row in range(data.shape[0]):\n",
    "#             point = data[idx_row,:]\n",
    "\n",
    "        if metric == \"l2\":\n",
    "            # calcualte Euclidean d\n",
    "            dist = np.power(np.sum((data - centroid_positions[idx_centroid,:])**k, axis=1), 1/k)\n",
    "            distances_array[:,idx_centroid] = dist\n",
    "            \n",
    "        else :\n",
    "            # calculate Manhatan d\n",
    "            print(\"Métrique manhattan non prise en charge. Veuillez choisir : metric = 'l2'\")\n",
    "                          \n",
    "    return distances_array\n",
    "        \n",
    "# measure_distances()   \n",
    "\n",
    "def calculate_new_positions():\n",
    "    \n",
    "    for idx_centroid in range(k):\n",
    "        kth_subset = data[centroid_labels == idx_centroid]\n",
    "        centroid_positions[idx_centroid,:] = scipy.ndimage.center_of_mass(kth_subset)\n",
    "        \n",
    "    return centroid_positions\n",
    "\n",
    "# calculate_new_positions()"
   ]
  },
  {
   "cell_type": "code",
   "execution_count": 5,
   "metadata": {},
   "outputs": [
    {
     "name": "stdout",
     "output_type": "stream",
     "text": [
      "[[ 1.13979705 -0.94534292]\n",
      " [ 2.10534395 -0.43738712]]\n",
      "[[191.3688366   -0.38208563]\n",
      " [ 26.89832873  -0.38208563]]\n",
      "[[191.3688366   -0.38208563]\n",
      " [ 26.89832873  -0.38208563]]\n"
     ]
    }
   ],
   "source": [
    "# Structure :\n",
    "\n",
    "k = 2\n",
    "scaler=\"StandardScaler\"\n",
    "metric=\"l2\"\n",
    "decimals=3\n",
    "\n",
    "# def KMeans_scratch(data, k, scaler=\"StandardScaler\", metric=\"l2\", decimals=3):    \n",
    "    \n",
    "# option standard scaler\n",
    "if scaler == \"StandardScaler\" :\n",
    "    from sklearn.preprocessing import StandardScaler\n",
    "    data = StandardScaler().fit_transform(data)\n",
    "else:\n",
    "    print (\"'Non-scaled' non pris en charge. Veuillez choisir : scaler='StandardScaler'\")\n",
    "\n",
    "# initial cluster positions = 2 first points of data\n",
    "centroid_positions = np.vstack([data[k,:] for k in range(k)])\n",
    "for_comparison = np.vstack([data[k,:] for k in range(k)])\n",
    "\n",
    "# create cluster's new positions array\n",
    "# centroid_positions_new = np.empty((k, data.shape[1]))\n",
    "\n",
    "# initial distances = 0\n",
    "distances_array = np.zeros((data.shape[0], k))\n",
    "\n",
    "# initial movement\n",
    "C_static = False \n",
    "\n",
    "count = 0    \n",
    "\n",
    "while C_static == False:\n",
    "    for_comparison = centroid_positions\n",
    "\n",
    "    # Calcul des distances : OK     \n",
    "    distances_array = measure_distances() \n",
    "\n",
    "    # Labeliser les points : OK\n",
    "    centroid_labels = np.argmin(measure_distances(), axis=1)\n",
    "    print(for_comparison)\n",
    "\n",
    "    # calculer les positions des barycentres = nouveaux centroïdes : OK\n",
    "    centroid_positions = calculate_new_positions()\n",
    "    print(centroid_positions)\n",
    "    print(for_comparison)\n",
    "    \n",
    "    # update C_movement variable : -----\n",
    "    C_static = determine_C_movement(decimals)\n",
    "\n",
    "    count += 1\n",
    "\n",
    "# print(centroid_positions)\n",
    "# print(np.bincount(centroid_labels))\n",
    "# print(count)\n",
    "\n",
    "#     return centroid_positions_new, centroid_labels, count\n",
    "    \n",
    "# KMeans_scratch(data, 2, scaler=\"StandardScaler\", metric=\"l2\", decimals=3)"
   ]
  },
  {
   "cell_type": "code",
   "execution_count": 6,
   "metadata": {
    "scrolled": true
   },
   "outputs": [
    {
     "data": {
      "text/plain": [
       "array([[ 1.13979705, -0.94534292],\n",
       "       [ 2.10534395, -0.43738712]])"
      ]
     },
     "execution_count": 6,
     "metadata": {},
     "output_type": "execute_result"
    }
   ],
   "source": [
    "np.vstack([data[k,:] for k in range(k)])"
   ]
  },
  {
   "cell_type": "code",
   "execution_count": null,
   "metadata": {
    "scrolled": true
   },
   "outputs": [],
   "source": []
  },
  {
   "cell_type": "code",
   "execution_count": null,
   "metadata": {},
   "outputs": [],
   "source": []
  },
  {
   "cell_type": "code",
   "execution_count": null,
   "metadata": {},
   "outputs": [],
   "source": []
  }
 ],
 "metadata": {
  "kernelspec": {
   "display_name": "Python 3",
   "language": "python",
   "name": "python3"
  },
  "language_info": {
   "codemirror_mode": {
    "name": "ipython",
    "version": 3
   },
   "file_extension": ".py",
   "mimetype": "text/x-python",
   "name": "python",
   "nbconvert_exporter": "python",
   "pygments_lexer": "ipython3",
   "version": "3.7.6"
  }
 },
 "nbformat": 4,
 "nbformat_minor": 4
}
